{
  "cells": [
    {
      "cell_type": "code",
      "source": [
        "#Predicting Insurance Premiums\n",
        "#●\tInput: Age of the individual, medical history score, number of dependents.\n",
        "#●\tOutput: Predicted insurance premium.\n",
        "\n",
        "\n",
        "\n",
        "import numpy as np\n",
        "import pandas as pd\n",
        "from sklearn.linear_model import LinearRegression\n",
        "\n",
        "\n",
        "data = {\n",
        "    'age': [25, 30, 35, 40, 45],\n",
        "    'medical_history_score': [1, 2, 3, 4, 5],\n",
        "    'dependents': [0, 1, 2, 3, 4],\n",
        "    'insurance_premium': [200, 300, 400, 500, 600]\n",
        "}\n",
        "\n",
        "\n",
        "df = pd.DataFrame(data)\n",
        "\n",
        "X = df[['age', 'medical_history_score', 'dependents']]\n",
        "y = df['insurance_premium']\n",
        "\n",
        "\n",
        "model = LinearRegression()\n",
        "model.fit(X, y)\n",
        "\n",
        "def predict_premium(age, medical_history_score, dependents):\n",
        "    return model.predict(np.array([[age, medical_history_score, dependents]]))[0]\n",
        "\n",
        "predicted_premium = predict_premium(38, 3, 2)\n",
        "print(f'Predicted insurance premium: ${predicted_premium:.2f}')\n"
      ],
      "metadata": {
        "id": "2z9pXuc-rptl",
        "outputId": "2608ca3b-68f2-4a10-eeae-b151ec00e939",
        "colab": {
          "base_uri": "https://localhost:8080/"
        }
      },
      "execution_count": 30,
      "outputs": [
        {
          "output_type": "stream",
          "name": "stdout",
          "text": [
            "Predicted insurance premium: $455.56\n"
          ]
        },
        {
          "output_type": "stream",
          "name": "stderr",
          "text": [
            "/usr/local/lib/python3.11/dist-packages/sklearn/utils/validation.py:2739: UserWarning: X does not have valid feature names, but LinearRegression was fitted with feature names\n",
            "  warnings.warn(\n"
          ]
        }
      ]
    },
    {
      "cell_type": "code",
      "source": [
        "#Predicting Electricity Consumption\n",
        "#●\tInput: Size of the house in square feet, number of residents.\n",
        "#●\tOutput: Predicted monthly electricity consumption.\n",
        "import numpy as np\n",
        "import pandas as pd\n",
        "from sklearn.linear_model import LinearRegression\n",
        "\n",
        "data = {\n",
        "    'size': [1500, 2000, 2500, 3000, 3500],\n",
        "    'residents': [2, 3, 4, 5, 6],\n",
        "    'consumption': [300, 400, 500, 600, 700]\n",
        "}\n",
        "\n",
        "df = pd.DataFrame(data)\n",
        "\n",
        "X = df[['size', 'residents']]\n",
        "y = df['consumption']\n",
        "\n",
        "model = LinearRegression()\n",
        "model.fit(X, y)\n",
        "\n",
        "def predict_consumption(size, residents):\n",
        "    return model.predict(np.array([[size, residents]]))[0]\n",
        "\n",
        "predicted_consumption = predict_consumption(2800, 4)\n",
        "print(f'Predicted monthly electricity consumption: {predicted_consumption:.2f} kWh')\n"
      ],
      "metadata": {
        "id": "dBIxP4sQr-Y-",
        "outputId": "30de3d88-ac33-4be6-fe87-cd22046443ee",
        "colab": {
          "base_uri": "https://localhost:8080/"
        }
      },
      "execution_count": 27,
      "outputs": [
        {
          "output_type": "stream",
          "name": "stdout",
          "text": [
            "Predicted monthly electricity consumption: 560.00 kWh\n"
          ]
        },
        {
          "output_type": "stream",
          "name": "stderr",
          "text": [
            "/usr/local/lib/python3.11/dist-packages/sklearn/utils/validation.py:2739: UserWarning: X does not have valid feature names, but LinearRegression was fitted with feature names\n",
            "  warnings.warn(\n"
          ]
        }
      ]
    },
    {
      "cell_type": "code",
      "source": [
        "#Predicting Sales\n",
        "#●\tInput: Advertising budget, number of salespeople.\n",
        "#●\tOutput: Predicted sales revenue.\n",
        "import numpy as np\n",
        "import pandas as pd\n",
        "from sklearn.linear_model import LinearRegression\n",
        "\n",
        "\n",
        "data = {\n",
        "    'advertising_budget': [10, 20, 30, 40, 50],\n",
        "    'salespeople': [1, 2, 3, 4, 5],\n",
        "    'sales_revenue': [100, 200, 300, 400, 500]\n",
        "}\n",
        "\n",
        "df = pd.DataFrame(data)\n",
        "\n",
        "X = df[['advertising_budget', 'salespeople']]\n",
        "y = df['sales_revenue']\n",
        "\n",
        "model = LinearRegression()\n",
        "model.fit(X, y)\n",
        "\n",
        "def predict_sales(advertising_budget, salespeople):\n",
        "    return model.predict(np.array([[advertising_budget, salespeople]]))[0]\n",
        "\n",
        "\n",
        "predicted_sales = predict_sales(35, 3)\n",
        "print(f'Predicted sales revenue: ${predicted_sales:.2f} thousand')\n",
        "\n"
      ],
      "metadata": {
        "id": "umXZEg5vs6lr",
        "outputId": "9e23fed7-6dda-4d91-bece-4cec3e57c392",
        "colab": {
          "base_uri": "https://localhost:8080/"
        }
      },
      "execution_count": 28,
      "outputs": [
        {
          "output_type": "stream",
          "name": "stdout",
          "text": [
            "Predicted sales revenue: $349.50 thousand\n"
          ]
        },
        {
          "output_type": "stream",
          "name": "stderr",
          "text": [
            "/usr/local/lib/python3.11/dist-packages/sklearn/utils/validation.py:2739: UserWarning: X does not have valid feature names, but LinearRegression was fitted with feature names\n",
            "  warnings.warn(\n"
          ]
        }
      ]
    },
    {
      "cell_type": "code",
      "source": [
        " #Predicting Property Tax\n",
        "#●\tInput: Value of the property, size of the property in square feet.\n",
        "#●\tOutput: Predicted annual property tax.\n",
        "import numpy as np\n",
        "import pandas as pd\n",
        "from sklearn.linear_model import LinearRegression\n",
        "\n",
        "data = {\n",
        "    'property_value': [200, 300, 400, 500, 600],\n",
        "    'size': [1500, 2000, 2500, 3000, 3500],\n",
        "    'annual_tax': [2000, 3000, 4000, 5000, 6000]\n",
        "}\n",
        "\n",
        "df = pd.DataFrame(data)\n",
        "\n",
        "X = df[['property_value', 'size']]\n",
        "y = df['annual_tax']\n",
        "\n",
        "model = LinearRegression()\n",
        "model.fit(X, y)\n",
        "\n",
        "def predict_property_tax(property_value, size):\n",
        "    return model.predict(np.array([[property_value, size]]))[0]\n",
        "\n",
        "predicted_tax = predict_property_tax(450, 2800)\n",
        "print(f'Predicted annual property tax: ${predicted_tax:.2f}')\n"
      ],
      "metadata": {
        "id": "Qb60d53qtUfM",
        "outputId": "c907109b-8fed-4591-a622-0cc8e75197a4",
        "colab": {
          "base_uri": "https://localhost:8080/"
        }
      },
      "execution_count": 29,
      "outputs": [
        {
          "output_type": "stream",
          "name": "stdout",
          "text": [
            "Predicted annual property tax: $4596.15\n"
          ]
        },
        {
          "output_type": "stream",
          "name": "stderr",
          "text": [
            "/usr/local/lib/python3.11/dist-packages/sklearn/utils/validation.py:2739: UserWarning: X does not have valid feature names, but LinearRegression was fitted with feature names\n",
            "  warnings.warn(\n"
          ]
        }
      ]
    },
    {
      "cell_type": "code",
      "source": [
        "#Predicting Plant Growth\n",
        "#\tInput: Amount of water per week, hours of sunlight per day.\n",
        "#●\tOutput: Predicted growth rate of the plant.\n",
        "import pandas as pd\n",
        "from sklearn.model_selection import train_test_split\n",
        "from sklearn.linear_model import LinearRegression\n",
        "\n",
        "data = {\n",
        "    'water_per_week': [1, 2, 3, 4, 5, 6, 7],  # Amount of water in liters\n",
        "    'sunlight_hours': [6, 8, 10, 12, 14, 16, 18],  # Hours of sunlight\n",
        "    'growth_rate': [1.2, 1.5, 2.0, 2.5, 3.0, 3.5, 4.0]  # Growth rate in cm\n",
        "}\n",
        "df = pd.DataFrame(data)\n",
        "\n",
        "X = df[['water_per_week', 'sunlight_hours']]\n",
        "y = df['growth_rate']\n",
        "\n",
        "\n",
        "X_train, X_test, y_train, y_test = train_test_split(X, y, test_size=0.2, random_state=42)\n",
        "\n",
        "model = LinearRegression()\n",
        "\n",
        "model.fit(X_train, y_train)\n",
        "\n",
        "def predict_growth(water, sunlight):\n",
        "    return model.predict([[water, sunlight]])[0]\n",
        "\n",
        "predicted_growth = predict_growth(4, 12)  # Input: 4 liters of water, 12 hours of sunlight\n",
        "print(f\"Predicted growth rate: {predicted_growth:.2f} cm\")\n",
        "\n"
      ],
      "metadata": {
        "id": "JlOou2Lutqlo",
        "outputId": "8dc79773-9dae-4332-a32b-a6d0758fb606",
        "colab": {
          "base_uri": "https://localhost:8080/"
        }
      },
      "execution_count": 31,
      "outputs": [
        {
          "output_type": "stream",
          "name": "stdout",
          "text": [
            "Predicted growth rate: 2.50 cm\n"
          ]
        },
        {
          "output_type": "stream",
          "name": "stderr",
          "text": [
            "/usr/local/lib/python3.11/dist-packages/sklearn/utils/validation.py:2739: UserWarning: X does not have valid feature names, but LinearRegression was fitted with feature names\n",
            "  warnings.warn(\n"
          ]
        }
      ]
    }
  ],
  "metadata": {
    "colab": {
      "name": "Welcome To Colab",
      "toc_visible": true,
      "provenance": []
    },
    "kernelspec": {
      "display_name": "Python 3",
      "name": "python3"
    }
  },
  "nbformat": 4,
  "nbformat_minor": 0
}